{
 "cells": [
  {
   "cell_type": "markdown",
   "id": "af6c0c0f",
   "metadata": {},
   "source": [
    "# 🚀 Introduction to Data Structures in Python\n",
    "### (Tuples, Sets, and Dictionaries)"
   ]
  },
  {
   "cell_type": "code",
   "execution_count": null,
   "id": "04470af6",
   "metadata": {},
   "outputs": [],
   "source": [
    "## Welcome, Curious Minds! 🔥  \n",
    "In this notebook, we'll explore three fundamental **data structures** in Python: **Tuples, Sets, and Dictionaries.  \n",
    "Why? Because they help us store, organize, and retrieve data efficiently!  \n",
    "\n",
    "Think of it like different containers for organizing your groceries:\n",
    "    \n",
    "Tuples → A shopping list that never changes.  ##immutable-->cannot be changed (for example: name, roll, mother, mother)\n",
    "Sets → A magic bag that removes duplicates and doesn't care about order. # mutable\n",
    "Dictionaries→ A super-fast label system where each item has a unique tag. ##mutable (key, value) for example: roll no, DOB-->(result)\n",
    "\n",
    "Let's dive in!\n",
    "    "
   ]
  },
  {
   "cell_type": "markdown",
   "id": "cf10aa71",
   "metadata": {},
   "source": [
    "## 🎭 Tuples: The Immutable Sequences"
   ]
  },
  {
   "cell_type": "code",
   "execution_count": 4,
   "id": "560d214e",
   "metadata": {},
   "outputs": [
    {
     "name": "stdout",
     "output_type": "stream",
     "text": [
      "apple\n",
      "['potato', 'tomato']\n",
      "Unpacked: apple, banana, cherry\n"
     ]
    }
   ],
   "source": [
    "# Creating a tuple (like a locked shopping list)\n",
    "fruits = (\"apple\", \"banana\", \"cherry\")\n",
    "f=tuple()\n",
    "\n",
    "# Accessing elements (same as lists)\n",
    "print(fruits[0])  # apple\n",
    "\n",
    "# Tuples are immutable, so this will cause an error\n",
    "#fruits[0] = \"orange\"  # ❌ TypeError\n",
    "vegetable=[\"brinjal\",\"tomato\"]\n",
    "vegetable[0]=\"potato\"\n",
    "print(vegetable)\n",
    "## packing a=10 b=10 --> a,b=10\n",
    "## unpacking \n",
    "\n",
    "# Tuple unpacking (assign values in one step)\n",
    "a, b, c = fruits\n",
    "print(f\"Unpacked: {a}, {b}, {c}\")\n",
    "##methods in tuples\n",
    "## methods len, count(), index()\n"
   ]
  },
  {
   "cell_type": "markdown",
   "id": "beb30bc4",
   "metadata": {},
   "source": [
    "## 🎩 Sets: The Unique Collection"
   ]
  },
  {
   "cell_type": "code",
   "execution_count": 23,
   "id": "b7ef0739",
   "metadata": {},
   "outputs": [
    {
     "name": "stdout",
     "output_type": "stream",
     "text": [
      "{1, 2, 3, 4}\n",
      "{1, 3, 4, 5}\n",
      "Union: {1, 2, 3, 4, 5} {1, 2, 3, 4, 5}\n",
      "Intersection: {3} {3}\n",
      "Difference: {1, 2} {1, 2}\n"
     ]
    }
   ],
   "source": [
    "# Creating a set (unordered & unique values)\n",
    "numbers = {1, 2, 3, 4, 4, 2, 1} \n",
    "print(numbers)  # {1, 2, 3, 4} (duplicates removed!)\n",
    "\n",
    "# Adding and removing elements\n",
    "numbers.add(5) #append\n",
    "numbers.remove(2) #removes\n",
    "print(numbers)\n",
    "## Set {}\n",
    "## operations: SET A and SET B \n",
    "## UNION: A | B--> A+B\n",
    "## Intersection: A & B ---> common ele between A and B\n",
    "## Difference: A - B --> remove the elements of B from A\n",
    "\n",
    "# Set operations (like Venn diagrams!)\n",
    "A = {1, 2, 3}\n",
    "B = {3, 4, 5}\n",
    "print(\"Union:\", A | B, A.union(B))        # {1, 2, 3, 4, 5}\n",
    "print(\"Intersection:\", A & B, A.intersection(B)) # {3}\n",
    "print(\"Difference:\", A - B,A.difference(B))   # {1, 2}\n"
   ]
  },
  {
   "cell_type": "code",
   "execution_count": null,
   "id": "5ebcc694",
   "metadata": {},
   "outputs": [],
   "source": []
  },
  {
   "cell_type": "markdown",
   "id": "fc6ba016",
   "metadata": {},
   "source": [
    "## 📦 Dictionaries: The Key-Value Store"
   ]
  },
  {
   "cell_type": "code",
   "execution_count": null,
   "id": "9a11adbd",
   "metadata": {},
   "outputs": [],
   "source": [
    "# Creating a dictionary (key-value pairs)\n",
    "student = {\"name\": \"Alice\", \"age\": 21, \"grade\": \"A\"} ## syntax: dict={key:value,}\n",
    "\n",
    "print(student[\"name\"])  # Alice \n",
    "\n",
    "# Adding and modifying values\n",
    "student[\"age\"] = 22\n",
    "student[\"city\"] = \"Paris\"\n",
    "\n",
    "# Iterating through keys and values  .values() .keys()\n",
    "print(student.keys(),student.values())\n",
    "\n",
    "for key, value in student.items():\n",
    "    print(key,\": \",value)\n",
    "\n",
    "# Dictionary methods\n",
    "print(student.keys())   # Get all keys\n",
    "print(student.values()) # Get all values\n",
    "print(student.get(\"grade\", \"Not Found\"))  # Safe key access\n"
   ]
  },
  {
   "cell_type": "code",
   "execution_count": null,
   "id": "28f40cd0",
   "metadata": {},
   "outputs": [],
   "source": [
    "Here are a few simple coding problems using **tuples, sets, and dictionaries**:  \n",
    "\n",
    "Tuples\n",
    "Swapping Values: Given a tuple (a, b), swap the values without using a temporary variable.\n",
    "Find Maximum: Write a function that takes a tuple of numbers and returns the maximum value.\n",
    "Concatenation: Merge two tuples (1, 2, 3) and (4, 5, 6) into one.\n",
    "Tuple Indexing: Given a tuple (10, 20, 30, 40, 50), return the element at index 2.\n",
    "Count Occurrences: Given a tuple ('a', 'b', 'c', 'a', 'd', 'b', 'a'), count how many times 'a' appears.\n",
    "\n",
    "Sets\n",
    "Remove Duplicates: Convert a list [1, 2, 2, 3, 4, 4, 5] into a set to remove duplicates.\n",
    "Set Union & Intersection: Find the union and intersection of two sets {1, 2, 3, 4} and {3, 4, 5, 6}.\n",
    "Check Subset: Check if {1, 2} is a subset of {1, 2, 3, 4}.\n",
    "Find Unique Elements: Given two lists, find elements that are unique to each list.\n",
    "Common Elements: Write a function that takes two sets and returns a set of common elements.\n",
    "\n",
    "Dictionaries\n",
    "Word Frequency: Given a sentence \"hello world hello\", count the frequency of each word.\n",
    "Find Key with Max Value: Given a dictionary { \"a\": 10, \"b\": 20, \"c\": 5 }, find the key with the highest value.\n",
    "Merge Dictionaries: Merge two dictionaries { \"x\": 1, \"y\": 2 } and { \"y\": 3, \"z\": 4 }.\n",
    "Invert a Dictionary: Given {1: \"a\", 2: \"b\", 3: \"c\"}, swap keys and values to get {\"a\": 1, \"b\": 2, \"c\": 3}.\n",
    "Sort by Value: Sort a dictionary { \"apple\": 3, \"banana\": 1, \"cherry\": 2 } by value in ascending order. \n"
   ]
  },
  {
   "cell_type": "code",
   "execution_count": null,
   "id": "5e9ec3e8",
   "metadata": {},
   "outputs": [],
   "source": [
    "Tuples\n",
    "Swapping Values: Given a tuple (a, b), swap the values without using a temporary variable.\n",
    "Find Maximum: Write a function that takes a tuple of numbers and returns the maximum value.\n",
    "Concatenation: Merge two tuples (1, 2, 3) and (4, 5, 6) into one.\n",
    "Tuple Indexing: Given a tuple (10, 20, 30, 40, 50), return the element at index 2.\n",
    "Count Occurrences: Given a tuple ('a', 'b', 'c', 'a', 'd', 'b', 'a'), count how many times 'a' appears."
   ]
  },
  {
   "cell_type": "code",
   "execution_count": null,
   "id": "1dc6b259",
   "metadata": {},
   "outputs": [],
   "source": []
  },
  {
   "cell_type": "code",
   "execution_count": 25,
   "id": "2755a921",
   "metadata": {},
   "outputs": [
    {
     "name": "stdout",
     "output_type": "stream",
     "text": [
      "10 20\n"
     ]
    }
   ],
   "source": [
    "## desc swapping\n",
    "\"\"\"1. temp -> temp=a, a=b, b=temp\n",
    "2. a,b=b,a\"\"\"\n",
    "a=20\n",
    "b=10\n",
    "(a,b)=(b,a)\n",
    "print(a,b)"
   ]
  },
  {
   "cell_type": "code",
   "execution_count": 29,
   "id": "f010281a",
   "metadata": {},
   "outputs": [
    {
     "data": {
      "text/plain": [
       "44555"
      ]
     },
     "execution_count": 29,
     "metadata": {},
     "output_type": "execute_result"
    }
   ],
   "source": [
    "def max_fun(tup):\n",
    "    return max(tup)\n",
    "max_fun((20,1,100,20,44555,66))"
   ]
  },
  {
   "cell_type": "code",
   "execution_count": 30,
   "id": "d9aaf63a",
   "metadata": {},
   "outputs": [
    {
     "data": {
      "text/plain": [
       "(1, 2, 3, 4, 5, 6)"
      ]
     },
     "execution_count": 30,
     "metadata": {},
     "output_type": "execute_result"
    }
   ],
   "source": [
    "tup1=(1,2,3)\n",
    "tup2=(4,5,6)\n",
    "tup1+tup2 ##concatenation operator"
   ]
  },
  {
   "cell_type": "code",
   "execution_count": 36,
   "id": "ccc771ef",
   "metadata": {},
   "outputs": [
    {
     "name": "stdout",
     "output_type": "stream",
     "text": [
      "20\n",
      "40\n",
      "10\n"
     ]
    }
   ],
   "source": [
    "def get_value(index):\n",
    "    tup3= (10, 20, 30, 40, 50)\n",
    "    return tup3[index]\n",
    "ans=get_value(1)\n",
    "print(ans) #-->print(20)\n",
    "print(get_value(3))\n",
    "print(get_value(0))"
   ]
  },
  {
   "cell_type": "code",
   "execution_count": null,
   "id": "527f5f0a",
   "metadata": {},
   "outputs": [],
   "source": [
    "Sets\n",
    "Remove Duplicates: Convert a list [1, 2, 2, 3, 4, 4, 5] into a set to remove duplicates.\n",
    "Set Union & Intersection: Find the union and intersection of two sets {1, 2, 3, 4} and {3, 4, 5, 6}.\n",
    "Check Subset: Check if {1, 2} is a subset of {1, 2, 3, 4}. ## {1,2}.is_subset({1,2,3,4})\n",
    "Find Unique Elements: Given two lists, find elements that are unique to each list. ##set(inp1) set(inp2) +\n",
    "Common Elements: Write a function that takes two sets and returns a set of common elements. ## intersection"
   ]
  },
  {
   "cell_type": "code",
   "execution_count": 41,
   "id": "fc53d0ae",
   "metadata": {},
   "outputs": [
    {
     "name": "stdout",
     "output_type": "stream",
     "text": [
      "[1, 2, 2, 3, 4, 4, 5]\n",
      "<class 'list'>\n",
      "<class 'set'>\n",
      "{1, 2, 3, 4, 5}\n"
     ]
    }
   ],
   "source": [
    "def remove_dup(l):\n",
    "    ## to convert a list into a set. -->  set(data_structure)\n",
    "    l=set(l)\n",
    "    print(type(l))\n",
    "    return l\n",
    "inp=[1, 2, 2, 3, 4, 4, 5]\n",
    "print(inp)\n",
    "print(type(inp))\n",
    "res=remove_dup(inp)\n",
    "print(res)"
   ]
  },
  {
   "cell_type": "markdown",
   "id": "0aa75089",
   "metadata": {},
   "source": [
    "## 🎯 Summary  \n",
    "- **Tuples**: Immutable, ordered collections. Great for fixed data (e.g., coordinates).  \n",
    "- **Sets**: Unordered, unique values. Perfect for membership tests & set operations.  \n",
    "- **Dictionaries**: Key-value pairs. Fast lookups, great for structured data.  \n",
    "\n",
    "🔥 **Practice Idea**:  \n",
    "Write a function that takes a list of students and returns a dictionary with names as keys and their grades as values!  \n",
    "\n",
    "Now go, experiment, and have fun coding! 🚀\n",
    "    "
   ]
  }
 ],
 "metadata": {
  "kernelspec": {
   "display_name": "Python 3 (ipykernel)",
   "language": "python",
   "name": "python3"
  },
  "language_info": {
   "codemirror_mode": {
    "name": "ipython",
    "version": 3
   },
   "file_extension": ".py",
   "mimetype": "text/x-python",
   "name": "python",
   "nbconvert_exporter": "python",
   "pygments_lexer": "ipython3",
   "version": "3.11.4"
  }
 },
 "nbformat": 4,
 "nbformat_minor": 5
}
