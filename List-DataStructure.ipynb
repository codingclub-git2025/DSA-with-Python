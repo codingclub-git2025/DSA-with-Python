{
 "cells": [
  {
   "cell_type": "code",
   "execution_count": null,
   "id": "40b7c2c9",
   "metadata": {},
   "outputs": [],
   "source": [
    "##Data Structure-- use to store any values\n",
    "## Linear DS -- organized in structured manner one after another\n",
    "## Non-Linear DS ---not organized in sequential manner"
   ]
  },
  {
   "cell_type": "code",
   "execution_count": 18,
   "id": "f602073f",
   "metadata": {},
   "outputs": [
    {
     "name": "stdout",
     "output_type": "stream",
     "text": [
      "[1, 2, 1, 3, 4] []\n"
     ]
    }
   ],
   "source": [
    "l=[1,2,1,3,4]\n",
    "l2=list()\n",
    "print(l,l2)"
   ]
  },
  {
   "cell_type": "code",
   "execution_count": 10,
   "id": "8ec95c9c",
   "metadata": {},
   "outputs": [
    {
     "data": {
      "text/plain": [
       "3"
      ]
     },
     "execution_count": 10,
     "metadata": {},
     "output_type": "execute_result"
    }
   ],
   "source": [
    "##LIST accesssing\n",
    "l[2]"
   ]
  },
  {
   "cell_type": "code",
   "execution_count": 14,
   "id": "529b8077",
   "metadata": {},
   "outputs": [
    {
     "name": "stdout",
     "output_type": "stream",
     "text": [
      "4\n",
      "[1, 2, 3, 4, 10]\n"
     ]
    }
   ],
   "source": [
    "#Methods \n",
    "print(len(l)) #return the length of list\n",
    "l.append(10)  #add ele to the last of list\n",
    "print(l)"
   ]
  },
  {
   "cell_type": "code",
   "execution_count": 15,
   "id": "b458ab39",
   "metadata": {},
   "outputs": [
    {
     "name": "stdout",
     "output_type": "stream",
     "text": [
      "[1, 2, 3, 4]\n"
     ]
    }
   ],
   "source": [
    "l.remove(10)  #remove the first occurence of ele in list\n",
    "print(l)"
   ]
  },
  {
   "cell_type": "code",
   "execution_count": 20,
   "id": "1ad1d662",
   "metadata": {},
   "outputs": [
    {
     "name": "stdout",
     "output_type": "stream",
     "text": [
      "2\n"
     ]
    }
   ],
   "source": [
    "count_of_10=l.count(1)  #return the number of occurence of ele in list\n",
    "print(count_of_10)"
   ]
  },
  {
   "cell_type": "code",
   "execution_count": 22,
   "id": "bb23d759",
   "metadata": {},
   "outputs": [
    {
     "name": "stdout",
     "output_type": "stream",
     "text": [
      "[1, 2, 1, 3, 4, 3, 3]\n"
     ]
    }
   ],
   "source": [
    "#extend --> append a list to the end of list\n",
    "l2=[3,3]\n",
    "l.extend(l2)\n",
    "print(l)"
   ]
  },
  {
   "cell_type": "code",
   "execution_count": 23,
   "id": "c1522923",
   "metadata": {},
   "outputs": [
    {
     "name": "stdout",
     "output_type": "stream",
     "text": [
      "[]\n"
     ]
    }
   ],
   "source": [
    "l2.clear()\n",
    "print(l2)"
   ]
  },
  {
   "cell_type": "code",
   "execution_count": 24,
   "id": "f0f1a8b9",
   "metadata": {},
   "outputs": [
    {
     "name": "stdout",
     "output_type": "stream",
     "text": [
      "0\n"
     ]
    }
   ],
   "source": [
    "#index --> return the index of the first occurence of ele in list\n",
    "print(l.index(1))"
   ]
  },
  {
   "cell_type": "code",
   "execution_count": 25,
   "id": "e9cf3553",
   "metadata": {},
   "outputs": [
    {
     "name": "stdout",
     "output_type": "stream",
     "text": [
      "[1, 2, 3] [1, 2, 3]\n"
     ]
    }
   ],
   "source": [
    "##example\n",
    "l=[1,2,3]\n",
    "l2=l\n",
    "print(l2,l)"
   ]
  },
  {
   "cell_type": "code",
   "execution_count": 26,
   "id": "9258e508",
   "metadata": {},
   "outputs": [
    {
     "name": "stdout",
     "output_type": "stream",
     "text": [
      "[1, 2, 3, 10] [1, 2, 3, 10]\n"
     ]
    }
   ],
   "source": [
    "l.append(10)\n",
    "print(l,l2)"
   ]
  },
  {
   "cell_type": "code",
   "execution_count": 27,
   "id": "959c0d50",
   "metadata": {},
   "outputs": [
    {
     "name": "stdout",
     "output_type": "stream",
     "text": [
      "[1, 2, 3, 10, 20] [1, 2, 3, 10]\n"
     ]
    }
   ],
   "source": [
    "l3=l.copy()\n",
    "l.append(20)\n",
    "print(l,l3)"
   ]
  },
  {
   "cell_type": "code",
   "execution_count": 28,
   "id": "ec032730",
   "metadata": {},
   "outputs": [
    {
     "name": "stdout",
     "output_type": "stream",
     "text": [
      "[1, 2, 3, 10, 20]\n"
     ]
    }
   ],
   "source": [
    "#pop --> remove the last ele  of the list\n",
    "print(l)"
   ]
  },
  {
   "cell_type": "code",
   "execution_count": 32,
   "id": "93e72d2b",
   "metadata": {},
   "outputs": [
    {
     "data": {
      "text/plain": [
       "[1]"
      ]
     },
     "execution_count": 32,
     "metadata": {},
     "output_type": "execute_result"
    }
   ],
   "source": [
    "l=[1, 2, 3, 10, 20]"
   ]
  },
  {
   "cell_type": "code",
   "execution_count": 33,
   "id": "2cdbc71a",
   "metadata": {},
   "outputs": [
    {
     "name": "stdout",
     "output_type": "stream",
     "text": [
      "[2, 3, 10]\n"
     ]
    }
   ],
   "source": [
    "#sort --> sorts the list\n",
    "l=[10,2,3]\n",
    "l.sort()\n",
    "print(l)"
   ]
  },
  {
   "cell_type": "code",
   "execution_count": 34,
   "id": "dc5f7221",
   "metadata": {},
   "outputs": [
    {
     "data": {
      "text/plain": [
       "[3, 2, 10]"
      ]
     },
     "execution_count": 34,
     "metadata": {},
     "output_type": "execute_result"
    }
   ],
   "source": [
    "#reverse --> arranges in revers order\n",
    "l=[10,2,3]\n",
    "l.reverse()\n",
    "l"
   ]
  },
  {
   "cell_type": "code",
   "execution_count": 35,
   "id": "4af80511",
   "metadata": {},
   "outputs": [
    {
     "data": {
      "text/plain": [
       "[3, 2, 10]"
      ]
     },
     "execution_count": 35,
     "metadata": {},
     "output_type": "execute_result"
    }
   ],
   "source": [
    "#slicing [start: stop:stepsize] starts from 0 to n-1"
   ]
  },
  {
   "cell_type": "code",
   "execution_count": 39,
   "id": "0f91ea59",
   "metadata": {},
   "outputs": [
    {
     "data": {
      "text/plain": [
       "[4, 3, 2, 1]"
      ]
     },
     "execution_count": 39,
     "metadata": {},
     "output_type": "execute_result"
    }
   ],
   "source": [
    "## shorthand for revrsing\n",
    "a=[1,2,3,4]\n",
    "a[::-1]"
   ]
  },
  {
   "cell_type": "code",
   "execution_count": null,
   "id": "7fe34995",
   "metadata": {},
   "outputs": [],
   "source": [
    "l=[]\n",
    "for i in range(0,6):\n",
    "    l.append(i)\n",
    "l"
   ]
  },
  {
   "cell_type": "code",
   "execution_count": null,
   "id": "2ebaba9b",
   "metadata": {},
   "outputs": [],
   "source": [
    "pip install nbmerge"
   ]
  },
  {
   "cell_type": "code",
   "execution_count": null,
   "id": "ff4753a2",
   "metadata": {},
   "outputs": [],
   "source": [
    "nbmerge file_1.ipynb file_2.ipynb file_3.ipynb > Lists-DatStr.ipynb"
   ]
  },
  {
   "cell_type": "code",
   "execution_count": 1,
   "id": "ba05f6d4",
   "metadata": {},
   "outputs": [
    {
     "data": {
      "text/plain": [
       "[0, 1, 2, 3, 4, 5]"
      ]
     },
     "execution_count": 1,
     "metadata": {},
     "output_type": "execute_result"
    }
   ],
   "source": [
    "l=[]\n",
    "for i in range(0,6):\n",
    "    l.append(i)\n",
    "l"
   ]
  },
  {
   "cell_type": "code",
   "execution_count": 2,
   "id": "67dd3807",
   "metadata": {},
   "outputs": [
    {
     "data": {
      "text/plain": [
       "[0, 1, 2, 3, 4, 5]"
      ]
     },
     "execution_count": 2,
     "metadata": {},
     "output_type": "execute_result"
    }
   ],
   "source": [
    "## list comprehension\n",
    "l=[i for i in range(1,6)]\n",
    "l"
   ]
  },
  {
   "cell_type": "code",
   "execution_count": 7,
   "id": "4066442d",
   "metadata": {},
   "outputs": [
    {
     "name": "stdout",
     "output_type": "stream",
     "text": [
      "[0, 1, 2, 3, 4, 5, 6, 7, 8, 9, 10, 11, 12, 13, 14, 15, 16, 17, 18, 19, 20]\n"
     ]
    }
   ],
   "source": [
    "## print numbers in list which are even\n",
    "inp=[i for i in range(21)]\n",
    "print(inp)"
   ]
  },
  {
   "cell_type": "code",
   "execution_count": 6,
   "id": "54527548",
   "metadata": {},
   "outputs": [
    {
     "data": {
      "text/plain": [
       "[0, 2, 4, 6, 8, 10, 12, 14, 16, 18]"
      ]
     },
     "execution_count": 6,
     "metadata": {},
     "output_type": "execute_result"
    }
   ],
   "source": [
    "even_l=[i for i in inp if i%2==0]\n",
    "even_l"
   ]
  },
  {
   "cell_type": "code",
   "execution_count": 5,
   "id": "89420d7f",
   "metadata": {},
   "outputs": [
    {
     "data": {
      "text/plain": [
       "[0, 2, 4, 6, 8, 10, 12, 14, 16, 18]"
      ]
     },
     "execution_count": 5,
     "metadata": {},
     "output_type": "execute_result"
    }
   ],
   "source": [
    "even=[]\n",
    "for i in inp:\n",
    "    if i%2==0:\n",
    "        even.append(i)\n",
    "even"
   ]
  },
  {
   "cell_type": "code",
   "execution_count": null,
   "id": "bbdd0465",
   "metadata": {},
   "outputs": [],
   "source": [
    "#conditionals if elif else\n",
    "if condition:\n",
    "    pass\n",
    "elif condition:\n",
    "    pass\n",
    "else:\n",
    "    pass #pass --> there is nothing here i n"
   ]
  },
  {
   "cell_type": "code",
   "execution_count": 10,
   "id": "281025ea",
   "metadata": {},
   "outputs": [],
   "source": [
    "## counter problems\n",
    "Question: display the largest element in list "
   ]
  },
  {
   "cell_type": "code",
   "execution_count": 13,
   "id": "11978638",
   "metadata": {},
   "outputs": [
    {
     "data": {
      "text/plain": [
       "(2, 20)"
      ]
     },
     "execution_count": 13,
     "metadata": {},
     "output_type": "execute_result"
    }
   ],
   "source": [
    "l=[20,2,3]\n",
    "min(l),max(l)"
   ]
  },
  {
   "cell_type": "code",
   "execution_count": null,
   "id": "30fe7369",
   "metadata": {},
   "outputs": [],
   "source": [
    "question: find the number which is repeated most (element with max frequency)"
   ]
  },
  {
   "cell_type": "code",
   "execution_count": 19,
   "id": "67d3899c",
   "metadata": {},
   "outputs": [
    {
     "data": {
      "text/plain": [
       "4"
      ]
     },
     "execution_count": 19,
     "metadata": {},
     "output_type": "execute_result"
    }
   ],
   "source": [
    "l=[1,2,2,3,3,3,10,10,10,10] #ans : 3\n",
    "## count()\n",
    "max_freq=0\n",
    "for i in l:\n",
    "    freq=l.count(i)\n",
    "    max_freq=max(freq,max_freq)\n",
    "max_freq"
   ]
  },
  {
   "cell_type": "code",
   "execution_count": 20,
   "id": "2b80e16e",
   "metadata": {},
   "outputs": [],
   "source": [
    "##PASS\n",
    "##for first pass: max(1,0)-->1\n",
    "##for seconf pass: max(2,1)-->2\n",
    "##for third pass: max(2,2)-->2\n",
    "##for third pass: max(3,2)-->3\n",
    "##for third pass: max(3,3)-->3\n",
    "##for third pass: max(3,3)-->3"
   ]
  },
  {
   "cell_type": "code",
   "execution_count": 21,
   "id": "f4598b16",
   "metadata": {},
   "outputs": [
    {
     "data": {
      "text/plain": [
       "4"
      ]
     },
     "execution_count": 21,
     "metadata": {},
     "output_type": "execute_result"
    }
   ],
   "source": [
    "l=[1,2,2,3,3,3,10,10,10,10] #ans : 3\n",
    "## count()\n",
    "max_freq=0\n",
    "for i in l:\n",
    "    freq=l.count(i)\n",
    "    max_freq=max(freq,max_freq)\n",
    "max_freq"
   ]
  },
  {
   "cell_type": "code",
   "execution_count": 33,
   "id": "b3c911e8",
   "metadata": {},
   "outputs": [
    {
     "name": "stdout",
     "output_type": "stream",
     "text": [
      "[1, 2, 3, 4, 5, 6, 7, 8, 9, 10]\n"
     ]
    },
    {
     "data": {
      "text/plain": [
       "9"
      ]
     },
     "execution_count": 33,
     "metadata": {},
     "output_type": "execute_result"
    }
   ],
   "source": [
    "## Given a list of numbers, find the second largest element\n",
    "\"\"\"\n",
    "sorting\n",
    "return the second last ele\n",
    "\"\"\"\n",
    "inp=[i for i in range(1,11)]\n",
    "inp.sort()\n",
    "print(inp)\n",
    "inp[-2]"
   ]
  },
  {
   "cell_type": "code",
   "execution_count": 47,
   "id": "4d05eb07",
   "metadata": {},
   "outputs": [
    {
     "data": {
      "text/plain": [
       "[1, 2, 3, 4]"
      ]
     },
     "execution_count": 47,
     "metadata": {},
     "output_type": "execute_result"
    }
   ],
   "source": [
    "## Remove duplicated element from list such that the list is unique\n",
    "'mutable'\n",
    "\"\"\"\n",
    "l=[1,2,3,4,1] --> l=[1,2,3,4]\n",
    "answer:--> count/frequency ? then analyzing whethter to keep it or rmeove it\n",
    "\n",
    "\"\"\"\n",
    "inp=[1,2,3,4,1]\n",
    "res=[]\n",
    "for i in inp:\n",
    "    if i in res:\n",
    "        continue\n",
    "    else:\n",
    "        res.append(i)\n",
    "res"
   ]
  },
  {
   "cell_type": "code",
   "execution_count": 43,
   "id": "bb26824b",
   "metadata": {},
   "outputs": [
    {
     "data": {
      "text/plain": [
       "True"
      ]
     },
     "execution_count": 43,
     "metadata": {},
     "output_type": "execute_result"
    }
   ],
   "source": [
    "### memebership operators\n",
    "'in , not in --> return a boolean value(True, False)(any number other than 0,0)'"
   ]
  },
  {
   "cell_type": "code",
   "execution_count": null,
   "id": "4e70a62e",
   "metadata": {},
   "outputs": [],
   "source": [
    "### continue break\n",
    "continue --> run another iteration/loop\n",
    "break --->  stop the loop"
   ]
  },
  {
   "cell_type": "code",
   "execution_count": 53,
   "id": "4ee0dec9",
   "metadata": {},
   "outputs": [
    {
     "data": {
      "text/plain": [
       "[30, 20, 10]"
      ]
     },
     "execution_count": 53,
     "metadata": {},
     "output_type": "execute_result"
    }
   ],
   "source": [
    "## Reverse a list in-place.\n",
    "'mutable'\n",
    "\"\"\"\n",
    "counter=length of list\n",
    "starts decrementing that counter to 0\n",
    "appending that values to result\n",
    "\n",
    "\"\"\"\n",
    "inp=[10,20,30]\n",
    "res=[]\n",
    "length=len(inp)\n",
    "for i in range(length-1,-1,-1): ## 2 1 0\n",
    "    res.append(inp[i])\n",
    "res"
   ]
  },
  {
   "cell_type": "code",
   "execution_count": 58,
   "id": "15fffc23",
   "metadata": {},
   "outputs": [
    {
     "data": {
      "text/plain": [
       "[30, 20, 10]"
      ]
     },
     "execution_count": 58,
     "metadata": {},
     "output_type": "execute_result"
    }
   ],
   "source": [
    "inp=[10,20,30]\n",
    "res=[]\n",
    "counter=len(inp)-1 #2\n",
    "while counter>=0:\n",
    "    res.append(inp[counter])\n",
    "    counter-=1 #counter=counter-1\n",
    "res"
   ]
  },
  {
   "cell_type": "code",
   "execution_count": 59,
   "id": "61a9d11d",
   "metadata": {},
   "outputs": [
    {
     "data": {
      "text/plain": [
       "True"
      ]
     },
     "execution_count": 59,
     "metadata": {},
     "output_type": "execute_result"
    }
   ],
   "source": [
    "### counter problems\n",
    "s=\"malayalam\"\n",
    "## palindorme --> a single word\n",
    "## anagram ---> freq count is same but the word is different\n",
    "s==s[::-1]"
   ]
  },
  {
   "cell_type": "code",
   "execution_count": null,
   "id": "baebb6a9",
   "metadata": {},
   "outputs": [],
   "source": [
    "## tuple, dict, set stacks and queues"
   ]
  }
 ],
 "metadata": {
  "kernelspec": {
   "display_name": "Python 3 (ipykernel)",
   "language": "python",
   "name": "python3"
  },
  "language_info": {
   "codemirror_mode": {
    "name": "ipython",
    "version": 3
   },
   "file_extension": ".py",
   "mimetype": "text/x-python",
   "name": "python",
   "nbconvert_exporter": "python",
   "pygments_lexer": "ipython3",
   "version": "3.11.4"
  }
 },
 "nbformat": 4,
 "nbformat_minor": 5
}
